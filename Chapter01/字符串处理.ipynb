{
 "cells": [
  {
   "cell_type": "markdown",
   "metadata": {
    "collapsed": false,
    "nbpresent": {
     "id": "e941eae7-6a09-461a-9723-1d21a372cb43"
    }
   },
   "source": [
    "# 字符编码与自然语言\n",
    "\n",
    "* python 字符串处理 \n",
    "    * string 内建函数介绍\n",
    "    * 正则表达式\n",
    "* torch 介绍\n",
    "\n",
    "* 相关库介绍\n",
    "    * gensim  \n",
    "    * NLTK\n",
    "    * snowNLP\n",
    "\n"
   ]
  },
  {
   "cell_type": "markdown",
   "metadata": {
    "collapsed": true,
    "nbpresent": {
     "id": "5e979843-760d-4757-93d3-d8f512338bc8"
    }
   },
   "source": [
    "### String 对象\n",
    "     Python中一切都是对象，并且几乎一切都有属性和方法\n",
    "         函数是函数对象，模块是模块对象，最特殊的是，对象的类型也是一个对象。\n",
    "&emsp;&emsp;&emsp;&emsp;&emsp;<https://www.jianshu.com/p/1a6dd03e8d82>            "
   ]
  },
  {
   "cell_type": "code",
   "execution_count": 1,
   "metadata": {
    "collapsed": false,
    "nbpresent": {
     "id": "d646f364-2662-4d05-a32d-9922a6a9c3b2"
    }
   },
   "outputs": [
    {
     "name": "stdout",
     "output_type": "stream",
     "text": [
      "<class 'str'>\n",
      "字符串长度： 7\n",
      "True\n",
      "字符串自身重复:  若有人兮山之阿若有人兮山之阿若有人兮山之阿\n",
      "字符串对象多占内存大小:  88\n"
     ]
    }
   ],
   "source": [
    "# 初始化 string 对象\n",
    "demo_str = \"若有人兮山之阿\"  \n",
    "print(type(demo_str))\n",
    "\n",
    "\n",
    "print( \"字符串长度：\", demo_str.__len__() )   # len()\n",
    "print( demo_str.__eq__(\"若有人兮山之阿\"))     # ==\n",
    "print( \"字符串自身重复: \", demo_str.__mul__(3))  \n",
    "print( \"字符串对象多占内存大小: \", demo_str.__sizeof__())\n",
    "\n",
    "\n"
   ]
  },
  {
   "cell_type": "markdown",
   "metadata": {
    "nbpresent": {
     "id": "8f802f98-e021-466c-912a-e6446d30c65b"
    }
   },
   "source": [
    "### 字符串不可变性\n",
    "    Python 中字符串一旦被创建，就会被分配到一段固定内存，且不能够被修改\n",
    "    \n",
    "    任何两个字符串变量，如果其字符串内容相同，那么两个名字引用的是用一个字符串对象"
   ]
  },
  {
   "cell_type": "code",
   "execution_count": 2,
   "metadata": {
    "collapsed": false
   },
   "outputs": [
    {
     "name": "stdout",
     "output_type": "stream",
     "text": [
      "test1 id = 2214516332144, test2 id = 2214516332144 \n",
      "True\n",
      "True\n"
     ]
    }
   ],
   "source": [
    "# import sys             \n",
    "# print(sys.version)\n",
    "test1 = 'immutable'\n",
    "test2 = 'immutable'\n",
    "print(\"test1 id = {0}, test2 id = {1} \".format(str(id(test1)), str(id(test2))))\n",
    "print(test1 == test2)\n",
    "print(id(test1) == id(test2))  #不同的解释器结果可能会不一样"
   ]
  },
  {
   "cell_type": "code",
   "execution_count": 69,
   "metadata": {
    "collapsed": false
   },
   "outputs": [
    {
     "ename": "TypeError",
     "evalue": "'str' object does not support item assignment",
     "output_type": "error",
     "traceback": [
      "\u001b[0;31m---------------------------------------------------------------------------\u001b[0m",
      "\u001b[0;31mTypeError\u001b[0m                                 Traceback (most recent call last)",
      "\u001b[0;32m<ipython-input-69-d764b98a2e88>\u001b[0m in \u001b[0;36m<module>\u001b[0;34m()\u001b[0m\n\u001b[1;32m      1\u001b[0m \u001b[1;31m# string 不可被修改\u001b[0m\u001b[1;33m\u001b[0m\u001b[1;33m\u001b[0m\u001b[0m\n\u001b[1;32m      2\u001b[0m \u001b[0mtest1\u001b[0m \u001b[1;33m=\u001b[0m \u001b[1;34m'immutable'\u001b[0m\u001b[1;33m\u001b[0m\u001b[0m\n\u001b[0;32m----> 3\u001b[0;31m \u001b[0mtest1\u001b[0m\u001b[1;33m[\u001b[0m\u001b[1;36m0\u001b[0m\u001b[1;33m]\u001b[0m \u001b[1;33m=\u001b[0m \u001b[1;34m'a'\u001b[0m\u001b[1;33m\u001b[0m\u001b[0m\n\u001b[0m",
      "\u001b[0;31mTypeError\u001b[0m: 'str' object does not support item assignment"
     ]
    }
   ],
   "source": [
    "# string 不可被修改\n",
    "test1 = 'immutable'\n",
    "test1[0] = 'a'"
   ]
  },
  {
   "cell_type": "code",
   "execution_count": 5,
   "metadata": {
    "collapsed": false
   },
   "outputs": [
    {
     "name": "stdout",
     "output_type": "stream",
     "text": [
      "mutable\n",
      "2640978166960 2640978110536\n",
      "mutable\n",
      "mutable\n"
     ]
    }
   ],
   "source": [
    "# 几种简单的字符串修改方式  ---->   产生新的字符串\n",
    "str_demo = \"immutable\"\n",
    "\n",
    "modified_string_1 = str_demo.replace('im','')\n",
    "print(modified_string_1)\n",
    "print(id(str_demo),  id(modified_string_1))\n",
    "\n",
    "modified_string_2 = str_demo[2:]\n",
    "print(modified_string_2)\n",
    "\n",
    "list_str = list(str_demo)\n",
    "list_str[0:2] = [\"\",\"\"]\n",
    "print(\"\".join(list_str))\n"
   ]
  },
  {
   "cell_type": "markdown",
   "metadata": {},
   "source": [
    "### String 相关函数介绍\n",
    "&emsp;&emsp;<http://www.runoob.com/python/python-strings.html><br>\n",
    "&emsp;&emsp;<https://blog.csdn.net/gzlaiyonghao/article/details/2610733>\n",
    "    "
   ]
  },
  {
   "cell_type": "code",
   "execution_count": 75,
   "metadata": {
    "collapsed": false
   },
   "outputs": [
    {
     "name": "stdout",
     "output_type": "stream",
     "text": [
      "('Israel', 0)('has', 0)('carried', 1)('out', 0)('its', 1)('biggest', 1)('attack', 0)('against', 1)('Hamas', 0)('militant', 2)('targets', 0)('inGaza', 1)('since', 1)('the', 0)('war', 0)('in', 1)('2014,', 0)('Prime', 1)('Minister', 2)('Benjamin', 1)('Netanyahu', 0)('says', 0)"
     ]
    }
   ],
   "source": [
    "#按空格分词\n",
    "string = 'Israel has carried out its biggest attack against Hamas militant targets in'\\\n",
    "        'Gaza since the war in 2014, Prime Minister Benjamin Netanyahu says'\n",
    "\n",
    "list_str = string.split(' ')\n",
    "# print(list_str)\n",
    "\n",
    "# 按条件查找\n",
    "#  计算每个单词中 i 出现的次数\n",
    "res = map(lambda word: (word, word.count('i')), list_str) # python2 返回列表   python3 返回迭代器 \n",
    "for i in res:\n",
    "    print( i ,end=\"\")\n",
    "\n",
    "counts = []\n",
    "for word in list_str:\n",
    "    counts.append( (word, word.count('i')) )\n",
    "# print(counts)\n",
    "        \n",
    "  "
   ]
  },
  {
   "cell_type": "code",
   "execution_count": 10,
   "metadata": {
    "collapsed": false
   },
   "outputs": [
    {
     "name": "stdout",
     "output_type": "stream",
     "text": [
      "全变成小写: nlp  natural language processing\n",
      "全变成大写: NLP  NATURAL LANGUAGE PROCESSING\n",
      "首字母大写: Nlp  natural language processing\n",
      "大小写互换: nlp  NATURAL LANGUAGE PROCESSING\n",
      "首字母大写: Nlp  Natural Language Processing\n"
     ]
    }
   ],
   "source": [
    "#变形\n",
    "demo_str = 'NLP  natural language processing'\n",
    "print(\"全变成小写:\", demo_str.lower())\n",
    "print(\"全变成大写:\",demo_str.upper())\n",
    "print(\"首字母大写:\",demo_str.capitalize())\n",
    "print(\"大小写互换:\",demo_str.swapcase())\n",
    "print(\"首字母大写:\",demo_str.title())\n"
   ]
  },
  {
   "cell_type": "code",
   "execution_count": 18,
   "metadata": {
    "collapsed": false
   },
   "outputs": [
    {
     "name": "stdout",
     "output_type": "stream",
     "text": [
      "['The', 'string', '123456', '1', 'a', 'ss', 'as', 'AAA']\n",
      "[True, True, True, True, True, True, True, True]\n",
      "[True, True, False, False, True, True, True, True]\n",
      "[False, False, True, True, False, False, False, False]\n",
      "[False, True, False, False, True, True, True, False]\n",
      "[False, False, False, False, False, False, False, True]\n",
      "[True, False, False, False, False, False, False, False]\n",
      "[False, True, False, False, False, True, False, False]\n",
      "[False, False, False, False, False, True, True, False]\n"
     ]
    }
   ],
   "source": [
    "#判断\n",
    "str_list = 'The string 123456 1 a ss as AAA'.split(\" \")\n",
    "\n",
    "print(str_list)\n",
    "\n",
    "print( [  word.isalnum() for word in str_list] )#至少有一个字符并且所有字符都是字母或数字\n",
    "print( [  word.isalpha() for word in str_list] )#至少有一个字符并且所有字符都是字母\n",
    "print( [  word.isdigit() for word in str_list] )#只包含数字则返回 True 否则返回 False\n",
    "print( [  word.islower() for word in str_list] )#只包含小写则返回 True 否则返回 False\n",
    "print( [  word.isupper() for word in str_list] )#只包含大写则返回 True 否则返回 False\n",
    "print( [  word.istitle() for word in str_list] )#单词以大写开头\n",
    "print( [  word.startswith('s') for word in str_list] )#以 's' 开头\n",
    "print( [  word.endswith('s') for word in str_list] )#以 's' 结尾\n",
    "\n"
   ]
  },
  {
   "cell_type": "markdown",
   "metadata": {
    "nbpresent": {
     "id": "bd026864-6e66-4795-bc05-7651b2b8e559"
    }
   },
   "source": [
    "### String 与 其他类型变量的转换 "
   ]
  },
  {
   "cell_type": "code",
   "execution_count": 6,
   "metadata": {
    "collapsed": false,
    "nbpresent": {
     "id": "451f4a29-9130-42f9-870f-675c673732f8"
    }
   },
   "outputs": [
    {
     "name": "stdout",
     "output_type": "stream",
     "text": [
      "['《九歌》共十一篇：《东皇太一》', '《云中君》', '《湘君》', '《湘夫人》', '《大司命》', '《少司命》', '《东君》', '《河伯》', '《山鬼》', '《国殇》', '《礼魂》']\n"
     ]
    }
   ],
   "source": [
    "# string 与 list的转换\n",
    "string = \"《九歌》共十一篇：《东皇太一》、《云中君》、《湘君》、《湘夫人》、《大司命》、《少司命》、《东君》、《河伯》、《山鬼》、《国殇》、《礼魂》\"\n",
    "list_str = string.split('、')\n",
    "print(list_str)\n",
    "# print(type( str(list_str)))\n",
    "# print(type( eval(str(list_str))))\n",
    "list2str = \" \".join( list_str )\n",
    "# print(list2str)\n",
    "\n"
   ]
  },
  {
   "cell_type": "code",
   "execution_count": 18,
   "metadata": {
    "collapsed": false,
    "nbpresent": {
     "id": "62bae683-d3a6-40a1-aae7-1b5ed6db7d32"
    }
   },
   "outputs": [
    {
     "name": "stdout",
     "output_type": "stream",
     "text": [
      "<class 'dict'> {'connect_timeout': 10, 'user': 'abc', 'passwd': '123', 'db': 'mydb', 'host': '192.168.11.22', 'port': 3306}\n",
      "{'connect_timeout': 10, 'user': 'abc', 'passwd': '123', 'db': 'mydb', 'host': '192.168.11.22', 'port': 3306}\n"
     ]
    }
   ],
   "source": [
    "# string 与 dict(json) 的转换\n",
    "import ast\n",
    "s = '{\"host\":\"192.168.11.22\", \"port\":3306, \"user\":\"abc\",\\\n",
    "              \"passwd\":\"123\", \"db\":\"mydb\", \"connect_timeout\":10}'\n",
    "\n",
    "#string -> dict\n",
    "d = ast.literal_eval(s)\n",
    "print(type(d),d)\n",
    "d1 = eval(s)            #用来执行一个字符串表达式，并返回表达式的值。\n",
    "# print(type(d1),d1)\n",
    "\n",
    "\n",
    "# loads()：将json数据转化成dict数据\n",
    "# dumps()：将dict数据转化成json数据\n",
    "# load()：读取json文件数据，转成dict数据\n",
    "# dump()：将dict数据转化成json数据后写入json文件\n",
    "import json\n",
    "d2 = json.loads(s)\n",
    "# print(type(d2),d2)\n",
    "\n",
    "# dict -> string \n",
    "\n",
    "s1 = json.dumps(d)\n",
    "# print(type(s1), s1)\n",
    "\n",
    "s2 = str(d)\n",
    "# print(s2)"
   ]
  },
  {
   "cell_type": "code",
   "execution_count": 27,
   "metadata": {
    "collapsed": false
   },
   "outputs": [
    {
     "name": "stdout",
     "output_type": "stream",
     "text": [
      "[<Element foo at 0x266e697ebc8>, <Element bar at 0x266e697e4c8>, <Element baz at 0x266e697e908>]\n",
      "Foo foo-id foo zoo\n",
      "foo zoo\n",
      "b'<root><foo id=\"foo-id\" class=\"foo zoo\">Foo</foo><bar>&#20013;&#25991;</bar><baz/></root>'\n"
     ]
    }
   ],
   "source": [
    "# string(xml) 与 class    \n",
    "# https://lxml.de/api/index.html\n",
    "import lxml\n",
    "from lxml import etree\n",
    "# import xmltodict, sys, gc\n",
    "\n",
    "xml_string = '<root>' \\\n",
    "                '<foo id=\"foo-id\" class=\"foo zoo\">Foo</foo>' \\\n",
    "                '<bar>中文</bar>' \\\n",
    "                '<baz></baz>' \\\n",
    "             '</root>'\n",
    "\n",
    "root = etree.fromstring(xml_string)\n",
    "doms = root.getchildren()\n",
    "print(doms)\n",
    "foo = doms[0]\n",
    "print(foo.text, foo.attrib.get(\"id\"), foo.attrib.get('class'))\n",
    "print(foo.get('class'))\n",
    "\n",
    "print(etree.tostring(root))\n"
   ]
  },
  {
   "cell_type": "code",
   "execution_count": 26,
   "metadata": {
    "collapsed": false
   },
   "outputs": [
    {
     "name": "stdout",
     "output_type": "stream",
     "text": [
      "姓名为：xxx 年龄为: 666\n",
      "姓名为：xxx 年龄为: 666\n"
     ]
    }
   ],
   "source": [
    "# string 与 class\n",
    "# 所有class都内置了一个__str__()方法\n",
    "\n",
    "class Person:\n",
    "    def __init__(self):\n",
    "        self.name = \"xxx\"\n",
    "        self.age = \"666\"\n",
    "\n",
    "    def __str__(self):\n",
    "        return \"姓名为：{} 年龄为: {}\".format(self.name, self.age)\n",
    "\n",
    "xx = Person()\n",
    "print( str(xx) )\n",
    "print( xx.__str__())\n"
   ]
  },
  {
   "cell_type": "markdown",
   "metadata": {},
   "source": [
    "### 正则表达式\n",
    "   正则表达式(regular expression)描述了一种字符串匹配的模式（pattern），可以用来检查一个串是否含有某种子串、将匹配的子串替换或者从某个串中取出符合某个条件的子串等。\n",
    "   \n",
    "<http://www.runoob.com/python/python-reg-expressions.html#flags><br>\n",
    "<http://www.cnblogs.com/huxi/archive/2010/07/04/1771073.html><br>\n",
    "<http://deerchao.net/tutorials/regex/regex.htm>\n"
   ]
  },
  {
   "cell_type": "code",
   "execution_count": 1,
   "metadata": {
    "collapsed": false
   },
   "outputs": [
    {
     "name": "stdout",
     "output_type": "stream",
     "text": [
      "True\n"
     ]
    }
   ],
   "source": [
    "# 传统方法        查看是否存在字串\n",
    "s = \"dog runs to cat. I run to dog.\"\n",
    "pattern = \"run\"\n",
    "print( pattern in  s )\n"
   ]
  },
  {
   "cell_type": "code",
   "execution_count": 17,
   "metadata": {
    "collapsed": false
   },
   "outputs": [
    {
     "name": "stdout",
     "output_type": "stream",
     "text": [
      "<_sre.SRE_Match object; span=(4, 7), match='run'>\n",
      "(4, 7)\n",
      "run\n",
      "run\n"
     ]
    }
   ],
   "source": [
    "import re\n",
    "s = \"dog runs to cat. I run to dog.\"\n",
    "pattern = r\"run\"       #匹配模式      \n",
    "res = re.search(pattern, s)\n",
    "print(res)\n",
    "print(res.span())\n",
    "print(res.group())\n",
    "# print(res.group(0))   # 0代表全部匹配到的内容\n",
    " \n",
    "\n",
    "\n"
   ]
  },
  {
   "cell_type": "code",
   "execution_count": 21,
   "metadata": {
    "collapsed": false,
    "scrolled": true
   },
   "outputs": [
    {
     "name": "stdout",
     "output_type": "stream",
     "text": [
      "['hi', 'HI', 'Hi', 'hI']\n"
     ]
    }
   ],
   "source": [
    "# 稍微复杂的规则\n",
    "s = \"hi HI Hi hI him history high this\"\n",
    "# list_s = s.split(' ')\n",
    "# print(list_s)\n",
    "pattern = r'\\b[Hh][Ii]\\b'     #  \\b 匹配单词边界，不匹配任何字符     [] 匹配括号内的任意字符\n",
    "res = re.findall(pattern, s)  #  表示所在位置的一侧为单词字符，另一侧为非单词字符、字符串的开始或结束位置\n",
    "print(res)\n"
   ]
  },
  {
   "cell_type": "markdown",
   "metadata": {},
   "source": [
    "![title](img/re2.jpg)\n",
    "![title](img/re1.jpg)"
   ]
  },
  {
   "cell_type": "code",
   "execution_count": 25,
   "metadata": {
    "collapsed": false
   },
   "outputs": [
    {
     "name": "stdout",
     "output_type": "stream",
     "text": [
      "010-12345678\n"
     ]
    }
   ],
   "source": [
    "#  一串数字中  找到 以0开头，然后是两个数字，然后是一个连字号“-”，最后是8个数字\n",
    "list_s = [\n",
    "    \"010-123456\",\n",
    "    \"1123-1234567\",\n",
    "    \"0-11456\",\n",
    "    \"010-12345678\",\n",
    "    \"567-12345678\"\n",
    "]\n",
    "\n",
    "pattern = r\"0\\d{2}-\\d{8}\"   # \\d 代表匹配数字   {n}代表前一个字符匹配n次\n",
    "\n",
    "for s in list_s:\n",
    "    res = re.search(pattern, s)\n",
    "    if res:\n",
    "        print(res.group())\n",
    "\n"
   ]
  },
  {
   "cell_type": "code",
   "execution_count": 26,
   "metadata": {
    "collapsed": false
   },
   "outputs": [
    {
     "name": "stdout",
     "output_type": "stream",
     "text": [
      "win\n",
      "['win', 'final', 'in', 'six', 'thriller', 'against', 'Croatia']\n"
     ]
    }
   ],
   "source": [
    "s = \"France win World Cup 2018 final in breathless six-goal thriller against Croatia\"\n",
    "pattern = r\"\\w*i\\w*\"        #\\w可以匹配一个字母或数字     * 代表出现0~n次        \n",
    "res = re.search(pattern, s) #搜索出第一个满足条件的模块      返回一个对象\n",
    "print(res.group())\n",
    "\n",
    "\n",
    "#搜索出所有 包含字母i的单词\n",
    "res = re.findall(pattern, s) #找到全部的匹配项        返回list\n",
    "print(res)"
   ]
  },
  {
   "cell_type": "markdown",
   "metadata": {},
   "source": [
    "分组：\n",
    "\n",
    "使用()来指定子表达式，可以指定这个子表达式的重复次数或者进行其它操作。"
   ]
  },
  {
   "cell_type": "code",
   "execution_count": 32,
   "metadata": {
    "collapsed": false
   },
   "outputs": [
    {
     "name": "stdout",
     "output_type": "stream",
     "text": [
      "7月11日 比利时 输给了 法国\n",
      "7月12日 英格兰 输给了 克罗地亚\n",
      "7月14日 英格兰 输给了 比利时\n",
      "7月15日 克罗地亚 输给了 法国\n"
     ]
    }
   ],
   "source": [
    "# 内容分组\n",
    "lits_str = [\n",
    "    \"7月11日，法国赢了比利时 1:0\",\n",
    "    \"7月12日，克罗地亚赢了英格兰 2:1\",\n",
    "    \"7月14日，比利时赢了英格兰 2:0\",\n",
    "    \"7月15日，法国赢了克罗地亚 4:2\"\n",
    "]\n",
    "\n",
    "pattern = r\"(\\d+月\\d+日)，(\\S+)赢了(\\S+)\"   # |d代表数字  |S代表非空白字符\n",
    "for string in lits_str:\n",
    "    match = re.search(pattern, string)              \n",
    "    print( match.group(1), match.group(3),\"输给了\", match.group(2))\n"
   ]
  },
  {
   "cell_type": "markdown",
   "metadata": {},
   "source": [
    "分枝条件：\n",
    "\n",
    "满足其中任意一种规则就当成匹配成功，需要使用分枝条件：使用管道|把不同的规则分开，这时候会从左到右地测试每个条件，如果满足了其中一个分枝，后面的规则就被忽略掉。"
   ]
  },
  {
   "cell_type": "code",
   "execution_count": 35,
   "metadata": {
    "collapsed": false
   },
   "outputs": [
    {
     "name": "stdout",
     "output_type": "stream",
     "text": [
      "['北京', '甘肃', '江苏']\n"
     ]
    }
   ],
   "source": [
    "s = \"北京 天津 黑龙江 辽宁 甘肃 陕西 湖南 江苏 贵州\"\n",
    "pattern = r\"北京|甘肃|江苏\"\n",
    "res = re.findall(pattern, s)\n",
    "print(res)"
   ]
  },
  {
   "cell_type": "markdown",
   "metadata": {},
   "source": [
    "贪婪与懒惰：\n",
    "\n",
    "当正则表达式中包含能接受重复的限定符时，通常的行为是（在使整个表达式能得到匹配的前提下）匹配尽可能多的字符。<br>\n",
    "有时，我们更需要懒惰匹配，也就是匹配尽可能少的字符。\n",
    "\n",
    "![title](img/re3.jpg)"
   ]
  },
  {
   "cell_type": "code",
   "execution_count": 40,
   "metadata": {
    "collapsed": false
   },
   "outputs": [
    {
     "name": "stdout",
     "output_type": "stream",
     "text": [
      "www\n",
      "w\n"
     ]
    }
   ],
   "source": [
    "# 正常情况下    ---  贪婪\n",
    "s = \"www.btbu.com\"\n",
    "pattern = r'\\w+'     # + 匹配1~无数个\n",
    "res = re.search(pattern, s)\n",
    "print(res.group())\n",
    "\n",
    "# 只匹配一个\n",
    "pattern = r'\\w+?'   \n",
    "res = re.search(pattern, s)\n",
    "print(res.group())"
   ]
  },
  {
   "cell_type": "code",
   "execution_count": 89,
   "metadata": {
    "collapsed": false,
    "scrolled": true
   },
   "outputs": [
    {
     "name": "stdout",
     "output_type": "stream",
     "text": [
      "-到--机场--迎接--\"PERSON\"江--主席--的--\"LOCATION\"美--方--人员--有--\"LOCATION\"马萨诸塞州--州长--和--\"LOCATION\"波士顿--市长--等--。-\n"
     ]
    }
   ],
   "source": [
    "# 替换\n",
    "import re\n",
    "def rep(matched):\n",
    "#     print(matched.group())\n",
    "    tag = matched.group('tag')\n",
    "    if tag :\n",
    "#         print('tag')\n",
    "        return '-'\n",
    "        \n",
    "    type_str = matched.group('TYPE')\n",
    "    if type_str :\n",
    "#         print('type')\n",
    "        return re.search(r'\".*?\"',type_str).group()\n",
    "\n",
    "    return \"\"\n",
    "        \n",
    "    \n",
    "s = '<w>到</w><w>机场</w><w>迎接</w><w><NAMEX TYPE=\"PERSON\">江</NAMEX></w><w>主席</w><w>的</w><w><NAMEX TYPE=\"LOCATION\">美</NAMEX></w><w>方</w><w>人员</w><w>有</w><w><NAMEX TYPE=\"LOCATION\">马萨诸塞州</NAMEX></w><w>州长</w><w>和</w><w><NAMEX TYPE=\"LOCATION\">波士顿</NAMEX></w><w>市长</w><w>等</w><w>。</w>'\n",
    "\n",
    "pattern = r'(?P<tag></?w>)|(?P<TYPE><\\w* TYPE.*?>)|(?P<TYPEend></\\w*?>)'  # ?P<tag> 给该分组取名\n",
    "# pattern = ''\n",
    "\n",
    "res = re.sub(pattern,rep, s)        #rep 可以是函数  也可以是字符串\n",
    "# res = re.sub(pattern,\" \",s)\n",
    "print(res)\n"
   ]
  },
  {
   "cell_type": "markdown",
   "metadata": {
    "collapsed": true
   },
   "source": [
    "#### re匹配规则表\n",
    "![title](img/re.png)"
   ]
  },
  {
   "cell_type": "code",
   "execution_count": null,
   "metadata": {
    "collapsed": true
   },
   "outputs": [],
   "source": []
  }
 ],
 "metadata": {
  "anaconda-cloud": {},
  "kernelspec": {
   "display_name": "Python [conda root]",
   "language": "python",
   "name": "conda-root-py"
  },
  "language_info": {
   "codemirror_mode": {
    "name": "ipython",
    "version": 3
   },
   "file_extension": ".py",
   "mimetype": "text/x-python",
   "name": "python",
   "nbconvert_exporter": "python",
   "pygments_lexer": "ipython3",
   "version": "3.5.2"
  },
  "nbpresent": {
   "slides": {
    "2fcf85be-5178-4579-add0-ffbe8a48f288": {
     "id": "2fcf85be-5178-4579-add0-ffbe8a48f288",
     "prev": "e281a753-861d-43c8-8844-d203589eafd1",
     "regions": {}
    },
    "4d0567cf-7c7e-4760-8d39-c8cd78f814ff": {
     "id": "4d0567cf-7c7e-4760-8d39-c8cd78f814ff",
     "prev": "d1b97b9b-a0d5-49d4-bc62-4eb884ef0b8a",
     "regions": {}
    },
    "55eeaa52-8715-44eb-9b4b-cfee3231b6b8": {
     "id": "55eeaa52-8715-44eb-9b4b-cfee3231b6b8",
     "prev": null,
     "regions": {
      "e21f03b7-7771-44e7-b258-e9393f7580e5": {
       "attrs": {
        "height": 0.8,
        "width": 0.8,
        "x": 0.1,
        "y": 0.1
       },
       "content": {
        "cell": "e941eae7-6a09-461a-9723-1d21a372cb43",
        "part": "whole"
       },
       "id": "e21f03b7-7771-44e7-b258-e9393f7580e5"
      }
     },
     "theme": null
    },
    "ab554834-ecd6-4e25-b7df-ff471e22d74b": {
     "id": "ab554834-ecd6-4e25-b7df-ff471e22d74b",
     "prev": "4d0567cf-7c7e-4760-8d39-c8cd78f814ff",
     "regions": {}
    },
    "c7c76fac-8bb6-4ccd-a565-c5a098c274c3": {
     "id": "c7c76fac-8bb6-4ccd-a565-c5a098c274c3",
     "prev": "55eeaa52-8715-44eb-9b4b-cfee3231b6b8",
     "regions": {
      "4a8c75a2-69dc-42f2-a577-7c19b0c01d5f": {
       "attrs": {
        "height": 0.7086302373930911,
        "width": 0.7743467933491687,
        "x": 0.11163895486935867,
        "y": 0.17313287351904774
       },
       "content": {
        "cell": "5e979843-760d-4757-93d3-d8f512338bc8",
        "part": "whole"
       },
       "id": "4a8c75a2-69dc-42f2-a577-7c19b0c01d5f"
      }
     },
     "theme": null
    },
    "d1b97b9b-a0d5-49d4-bc62-4eb884ef0b8a": {
     "id": "d1b97b9b-a0d5-49d4-bc62-4eb884ef0b8a",
     "prev": "2fcf85be-5178-4579-add0-ffbe8a48f288",
     "regions": {}
    },
    "e281a753-861d-43c8-8844-d203589eafd1": {
     "id": "e281a753-861d-43c8-8844-d203589eafd1",
     "prev": "edd73cc0-9ba6-4c8f-8401-df01b76f9e77",
     "regions": {}
    },
    "edd73cc0-9ba6-4c8f-8401-df01b76f9e77": {
     "id": "edd73cc0-9ba6-4c8f-8401-df01b76f9e77",
     "layout": "grid",
     "prev": "c7c76fac-8bb6-4ccd-a565-c5a098c274c3",
     "regions": {}
    }
   },
   "themes": {}
  }
 },
 "nbformat": 4,
 "nbformat_minor": 1
}
